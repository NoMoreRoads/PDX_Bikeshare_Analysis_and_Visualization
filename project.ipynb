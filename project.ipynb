{
 "cells": [
  {
   "cell_type": "markdown",
   "metadata": {},
   "source": [
    "Import libraries"
   ]
  },
  {
   "cell_type": "code",
   "execution_count": null,
   "metadata": {},
   "outputs": [],
   "source": [
    "import geopandas\n",
    "import pandas as pd\n",
    "from itables import init_notebook_mode"
   ]
  },
  {
   "cell_type": "markdown",
   "metadata": {},
   "source": [
    "Import trip data"
   ]
  },
  {
   "cell_type": "code",
   "execution_count": null,
   "metadata": {},
   "outputs": [],
   "source": [
    "# Display data frames interactively\n",
    "init_notebook_mode(all_interactive=True)\n",
    "\n",
    "july_2016_raw = pd.read_csv(\"./2016_07.csv\")\n",
    "july_2016_raw"
   ]
  },
  {
   "cell_type": "markdown",
   "metadata": {},
   "source": [
    "Remove variables we will not be working with (only retaining variables pertaining to date/time, payment plan, and geolocation)"
   ]
  },
  {
   "cell_type": "code",
   "execution_count": null,
   "metadata": {},
   "outputs": [],
   "source": [
    "july_2016_reduced = july_2016_raw.drop([\"RouteID\",\"TripType\",\"BikeID\",\"BikeName\",\"Distance_Miles\",\"Duration\",\"RentalAccessPath\",\"MultipleRental\"], axis=1)"
   ]
  },
  {
   "cell_type": "markdown",
   "metadata": {},
   "source": [
    "Creating datetime columns for start and end of trip"
   ]
  },
  {
   "cell_type": "code",
   "execution_count": null,
   "metadata": {},
   "outputs": [],
   "source": [
    "start_datetime = pd.to_datetime(july_2016_reduced[\"StartDate\"]) + pd.to_timedelta(july_2016_reduced[\"StartTime\"]+\":00\")\n",
    "end_datetime = pd.to_datetime(july_2016_reduced[\"EndDate\"]) + pd.to_timedelta(july_2016_reduced[\"EndTime\"]+\":00\")\n",
    "\n",
    "july_2016_reduced_2 = july_2016_reduced.drop([\"StartDate\",\"StartTime\",\"EndDate\",\"EndTime\"], axis=1).assign(start_datetime = start_datetime, end_datetime = end_datetime)"
   ]
  },
  {
   "cell_type": "markdown",
   "metadata": {},
   "source": [
    "Creating point objects from lat, long pairs"
   ]
  },
  {
   "cell_type": "code",
   "execution_count": null,
   "metadata": {},
   "outputs": [],
   "source": [
    "# Note that the coordinate reference system is not specified anywhere in the original data, so I chose 3857 as an educated guess\n",
    "\n",
    "july_2016_geo = geopandas.GeoDataFrame(\n",
    "    july_2016_reduced_2, geometry=geopandas.points_from_xy(july_2016_reduced_2.StartLongitude, july_2016_reduced_2.StartLatitude), crs=\"EPSG:3857\"\n",
    ")"
   ]
  },
  {
   "cell_type": "markdown",
   "metadata": {},
   "source": [
    "Removing extra columns"
   ]
  },
  {
   "cell_type": "code",
   "execution_count": null,
   "metadata": {},
   "outputs": [],
   "source": [
    "july_2016_geo.drop([\"StartLatitude\",\"StartLongitude\",\"EndLatitude\",\"EndLongitude\"], axis=1)"
   ]
  }
 ],
 "metadata": {
  "kernelspec": {
   "display_name": "Python 3",
   "language": "python",
   "name": "python3"
  },
  "language_info": {
   "codemirror_mode": {
    "name": "ipython",
    "version": 3
   },
   "file_extension": ".py",
   "mimetype": "text/x-python",
   "name": "python",
   "nbconvert_exporter": "python",
   "pygments_lexer": "ipython3",
   "version": "3.12.4"
  }
 },
 "nbformat": 4,
 "nbformat_minor": 2
}
